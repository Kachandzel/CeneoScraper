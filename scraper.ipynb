{
 "cells": [
  {
   "cell_type": "markdown",
   "metadata": {},
   "source": [
    "Ceneo Scraper\n"
   ]
  },
  {
   "cell_type": "markdown",
   "metadata": {},
   "source": [
    "## lista kroków \"manualnych\"\n",
    "\n",
    "1. Wejdź na strone produktu / z opiniami o produkcie\n",
    "2. Dla każdej opinii na stronie\n",
    "    - Skopiuj opinie \n",
    "    - Wklej opinie do edytora tekstu \n",
    "3. Przejdź do kolejnej strony z opiniami\n",
    "4. Powtarzaj kroki 2-3 dopóki są strony z opiniami\n",
    "\n",
    "\n",
    "## lista kroków scrapera\n",
    "\n",
    "1. Wysyłanie żądania dostępu do zasobu - strona z opiniami o produkcie \n",
    "2. Wydobycie z kodu HTML fragmentów odpowiadających opiniom\n",
    "3. Dla każdej opinii na stronie\n",
    "    - Wydobycie z kodu opini jej składowych"
   ]
  },
  {
   "cell_type": "markdown",
   "metadata": {},
   "source": [
    "## Struktura opini w serwisie Ceneo.pl\n",
    "\n",
    "|składowa|nazwa|selektor|\n",
    "|--------|-----|--------|\n",
    "|identyfikator opinii|opinion_id||\n",
    "|autor|author||\n",
    "|rekomendacja|recommendation||\n",
    "|treść opinii|content||\n",
    "|lista zalet|prons||\n",
    "|lista wad|cons||\n",
    "|data wystawienia opinii|post_date||\n",
    "|data zakupu produktu|purchase_date||\n",
    "|ile osób uznało opinię za przydatną|useful||\n",
    "|ile osób uznało opinię za nieprzydatną|useless||"
   ]
  },
  {
   "cell_type": "markdown",
   "metadata": {},
   "source": [
    "63717975\n",
    "63718036\n",
    "124893467\n",
    "130049265\n",
    "108290691"
   ]
  },
  {
   "cell_type": "markdown",
   "metadata": {},
   "source": [
    "1. import bibliotek\n"
   ]
  },
  {
   "cell_type": "code",
   "execution_count": null,
   "metadata": {},
   "outputs": [],
   "source": [
    "import requests"
   ]
  },
  {
   "cell_type": "markdown",
   "metadata": {},
   "source": [
    "2. Wysyłanie żądania dostepu do zasobu (request)\n",
    "\n"
   ]
  },
  {
   "cell_type": "code",
   "execution_count": 37,
   "metadata": {},
   "outputs": [],
   "source": [
    "import requests\n",
    "product_code = \"63717975\"\n",
    "url = f\"https://www.ceneo.pl/{product_code}#tab=reviews\"\n",
    "response = requests.get(url)"
   ]
  },
  {
   "cell_type": "markdown",
   "metadata": {},
   "source": [
    "3. Wydobycie z kodu HTML fragmentów odpowiadających opiniom"
   ]
  },
  {
   "cell_type": "code",
   "execution_count": 41,
   "metadata": {},
   "outputs": [],
   "source": [
    "page = BeautifulSoup(response.text, \"html.parser\")\n",
    "opinions = page.select(\"div.js_product-review\")\n",
    "\n"
   ]
  },
  {
   "cell_type": "markdown",
   "metadata": {},
   "source": [
    "4. Wydobycie z kodu opini jej składowych dla każdej opinii na stronie"
   ]
  },
  {
   "cell_type": "code",
   "execution_count": null,
   "metadata": {},
   "outputs": [],
   "source": [
    "for opinion in opinions:\n",
    "    pass\n",
    "    "
   ]
  }
 ],
 "metadata": {
  "kernelspec": {
   "display_name": ".venv",
   "language": "python",
   "name": "python3"
  },
  "language_info": {
   "codemirror_mode": {
    "name": "ipython",
    "version": 3
   },
   "file_extension": ".py",
   "mimetype": "text/x-python",
   "name": "python",
   "nbconvert_exporter": "python",
   "pygments_lexer": "ipython3",
   "version": "3.12.0"
  }
 },
 "nbformat": 4,
 "nbformat_minor": 2
}
